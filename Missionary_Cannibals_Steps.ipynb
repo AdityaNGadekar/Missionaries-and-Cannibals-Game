{
 "cells": [
  {
   "cell_type": "markdown",
   "metadata": {
    "id": "y5dddMZVQogb"
   },
   "source": [
    "# <center>3 Missionaries 3 Cannibals</center>\n",
    "\n",
    "Create the famous 3 missionaries 3 cannibals crossing the river game.\n",
    "\n",
    "[Play Game!](https://www.novelgames.com/en/missionaries/)\n",
    "\n",
    "## Notebook Content :\n",
    "\n",
    "- **Lesson 1 :**\n",
    "  - Setting up the initial environment of the game.\n",
    "\n",
    "- **Lesson 2 :**\n",
    "  - Adding the required valid and invalid conditions alongwith their operations.\n",
    "\n",
    "- **Lesson 3 :**\n",
    "  - Combining all segments of the code to build the game.\n",
    "\n",
    "- **Lesson 4 :**\n",
    "  - Adding emoticons to complete the game with better interface.\n"
   ]
  },
  {
   "cell_type": "markdown",
   "metadata": {
    "id": "E6meN3PiQogl"
   },
   "source": [
    "## Rules :\n",
    "- Only 1 or 2 people are permitted on the boat to travel.\n",
    "- We cannot select anymore missionaries or cannibals on the boat than the available number of missionaries or cannibals on either side.\n",
    "- You **lose** if the number of cannibals exceeds the number of missionaries on either side.\n",
    "- You **win** if you successfully transfer all the missionaries and cannibals from right side to left side."
   ]
  },
  {
   "cell_type": "markdown",
   "metadata": {
    "id": "1fGHJcbTQogm"
   },
   "source": [
    "## <center>**Lesson 1**</center>\n",
    "\n",
    "#### <center>**Setting up the initial environment of the game**</center>"
   ]
  },
  {
   "cell_type": "markdown",
   "metadata": {
    "id": "2qAeNA_ZQogn"
   },
   "source": [
    "In the initial conditions of the game, all the missionaries and cannibals are on the right side alongwith the boat and the left side is completely empty. We will mimic this condition by defining variables for them.\n",
    "\n",
    "### **Define initial variables :**\n",
    "\n",
    "- Define variable `boat_side` as 'Right' initially. This depicts the boat being placed at right side.\n",
    "- Create numeric variables for number of missionaries and cannibals\n",
    "   on the right and left side.\n",
    "   So there are 3 missionaries and cannibals on right side and 0 on the left side.\n",
    "- **List of Variables :**\n",
    "`boat_side, missionaries_on_right, cannibals_on_right, missionaries_on_left, cannibals_on_left`\n"
   ]
  },
  {
   "cell_type": "code",
   "execution_count": null,
   "metadata": {
    "id": "AmjfaRdgQogo"
   },
   "outputs": [],
   "source": [
    "#### Your code ###\n",
    "boat_side= 'right'\n",
    "MR=3\n",
    "CR=3\n",
    "ML=0\n",
    "CL=0"
   ]
  },
  {
   "cell_type": "markdown",
   "metadata": {
    "id": "544yxFpIQogp"
   },
   "source": [
    "Now display the inital conditions of the game using the following stylish manner :<br>\n",
    "\n",
    "`M = 0 C = 0  |-----B|  M = 3 C = 3`<br>\n",
    "\n",
    "Make sure to not hardcode all values."
   ]
  },
  {
   "cell_type": "code",
   "execution_count": null,
   "metadata": {
    "colab": {
     "base_uri": "https://localhost:8080/"
    },
    "id": "EGp8GNBhQogq",
    "outputId": "0aa00e37-58d8-4277-8671-1a1c9f54d8d4"
   },
   "outputs": [
    {
     "name": "stdout",
     "output_type": "stream",
     "text": [
      "M = 0 = C = 0 |-----B| M = 3 = C = 3\n"
     ]
    }
   ],
   "source": [
    "print('M','=' ,ML,'=', 'C','=',CL, '|-----B|', 'M','=',MR,'=', 'C','=',CR)\n",
    "\n"
   ]
  },
  {
   "cell_type": "markdown",
   "metadata": {
    "id": "PObVD9tdQogq"
   },
   "source": [
    "## <center>**Lesson 2**</center>\n",
    "#### <center>**Adding the required valid and invalid conditions alongwith their operations**</center>\n"
   ]
  },
  {
   "cell_type": "markdown",
   "metadata": {
    "id": "2aDEi-SqQogq"
   },
   "source": [
    "Take input from the user for entering the number of missionaries and cannibals on the boat.<br>\n",
    "Store these values in 2 variables : `missionaries, cannibals`\n",
    "\n",
    "This part depicts the process of tapping the `missionaries` and `cannibals` on to the boat.  \n",
    "\n",
    "**Note :** Make sure you pass the appropriate message in the input function that assists user in entering the values.\n",
    "\n",
    "**Note :** The following code cells will be common for both right side and left side required in Lesson 3 and Lesson 4."
   ]
  },
  {
   "cell_type": "code",
   "execution_count": null,
   "metadata": {
    "colab": {
     "base_uri": "https://localhost:8080/"
    },
    "id": "GEglqSjrQogr",
    "outputId": "ece58830-ddd6-41b9-e8ca-d2d4a2b024f6"
   },
   "outputs": [
    {
     "name": "stdout",
     "output_type": "stream",
     "text": [
      "1\n",
      "1\n"
     ]
    }
   ],
   "source": [
    "### Your code ###\n",
    "M=int(input())\n",
    "C=int(input())\n"
   ]
  },
  {
   "cell_type": "markdown",
   "metadata": {
    "id": "fVfioCyZQogs"
   },
   "source": [
    "1**Invalid Move 1 :**\n",
    "\n",
    "Check if the maximum number of people on the boat are 1 or 2 only else print \"Invalid move 1\""
   ]
  },
  {
   "cell_type": "code",
   "execution_count": null,
   "metadata": {
    "colab": {
     "base_uri": "https://localhost:8080/"
    },
    "id": "50I3KT4hQogs",
    "outputId": "3c8985f6-a8fe-48ed-d4e6-d2cb29615a49"
   },
   "outputs": [
    {
     "name": "stdout",
     "output_type": "stream",
     "text": [
      "valid move\n"
     ]
    }
   ],
   "source": [
    "### Your code ###\n",
    "if M+C>2 or M+C<1:\n",
    "  print('Invalid Move')\n",
    "else:\n",
    "    print('valid move')\n"
   ]
  },
  {
   "cell_type": "markdown",
   "metadata": {
    "id": "Oe1ymzIIQogt"
   },
   "source": [
    "###  <center>**Codeflow for Right Side**</center>"
   ]
  },
  {
   "cell_type": "markdown",
   "metadata": {
    "id": "SoyMGHXrZd28"
   },
   "source": [
    "Add if - else statement to check the value of `boat_side` variable and display if the boat is on right side.\n",
    "\n",
    "This is done to confirm the boat side before carrying out the required operations."
   ]
  },
  {
   "cell_type": "code",
   "execution_count": null,
   "metadata": {
    "colab": {
     "base_uri": "https://localhost:8080/"
    },
    "id": "E0035i_CZasN",
    "outputId": "6c3ec643-a967-4346-c95b-7bcb2dbda34a"
   },
   "outputs": [
    {
     "name": "stdout",
     "output_type": "stream",
     "text": [
      "right\n"
     ]
    }
   ],
   "source": [
    "### Your code ###\n",
    "if boat_side=='right':\n",
    "  print('right')\n",
    "else:\n",
    "  print('left')"
   ]
  },
  {
   "cell_type": "markdown",
   "metadata": {
    "id": "Y8sYOlsqZolz"
   },
   "source": [
    "**Invalid Move 2 :**\n",
    "\n",
    "Check if the number of missionaries or cannibals entered on the boat are greater than the available missionaries or cannibals on the right side. If yes, print \"Invalid move 2\"."
   ]
  },
  {
   "cell_type": "code",
   "execution_count": null,
   "metadata": {
    "colab": {
     "base_uri": "https://localhost:8080/"
    },
    "id": "PzW5raCfQogt",
    "outputId": "c4481456-25ef-4613-fe95-3bff1b2d3d62"
   },
   "outputs": [
    {
     "name": "stdout",
     "output_type": "stream",
     "text": [
      "valid\n"
     ]
    }
   ],
   "source": [
    "### Your code ###\n",
    "if M>MR and C>CR:\n",
    "  print('invalid Move')\n",
    "else:\n",
    "  print('valid')"
   ]
  },
  {
   "cell_type": "markdown",
   "metadata": {
    "id": "d6wYZ7DLQogu"
   },
   "source": [
    "When the boat travels from right side to left side :\n",
    "- Number of missionaries and cannibals reduce from the right side.\n",
    "- Number of missionaries and cannibals increase on the left side."
   ]
  },
  {
   "cell_type": "code",
   "execution_count": null,
   "metadata": {
    "id": "hEeSHgUJNGce"
   },
   "outputs": [],
   "source": []
  },
  {
   "cell_type": "code",
   "execution_count": null,
   "metadata": {
    "id": "rgbWSeUBQogu"
   },
   "outputs": [],
   "source": [
    "### Your code ###\n",
    "# if boat_side=='right':\n",
    "MR=MR-M\n",
    "CR=CR-C\n",
    "ML=ML+M\n",
    "CL=CL+C\n",
    "boat_side='left'\n"
   ]
  },
  {
   "cell_type": "markdown",
   "metadata": {
    "id": "US5ADpenQogv"
   },
   "source": [
    "Display in the same format as mentioned above.\n",
    "\n",
    "`M = 1 C = 1  |B-----|  M = 2 C = 2`\n",
    "\n",
    "Change the `boat_side` variable to 'Left' aswell.\n",
    "\n",
    "This variable overwrite is the equivalent of the boat travelling from right side to left side."
   ]
  },
  {
   "cell_type": "code",
   "execution_count": null,
   "metadata": {
    "colab": {
     "base_uri": "https://localhost:8080/"
    },
    "id": "roWkGTzyQogv",
    "outputId": "fce4866a-a7cb-4453-d78e-a17314392503"
   },
   "outputs": [
    {
     "name": "stdout",
     "output_type": "stream",
     "text": [
      "M= 1 C = 1 |B----| M= 2 C= 2\n"
     ]
    }
   ],
   "source": [
    "\n",
    "### Your code ###\n",
    "print('M=', ML, 'C','=',CL, '|B----|', 'M=',MR, 'C=',CR)"
   ]
  },
  {
   "cell_type": "markdown",
   "metadata": {
    "id": "WWKdADPJQogw"
   },
   "source": [
    "###  <center>**Codeflow for Left Side**</center>\n"
   ]
  },
  {
   "cell_type": "markdown",
   "metadata": {
    "id": "94_ZSJi8dSvd"
   },
   "source": [
    "Add if - else statement to check the value of `boat_side` variable and display if the boat is on left side.\n",
    "\n",
    "This is done to confirm the boat side before carrying out the required operations."
   ]
  },
  {
   "cell_type": "code",
   "execution_count": null,
   "metadata": {
    "colab": {
     "base_uri": "https://localhost:8080/"
    },
    "id": "zGgX00C-dSIt",
    "outputId": "91a44f30-a3e3-4655-98fe-f27c5a1a6697"
   },
   "outputs": [
    {
     "name": "stdout",
     "output_type": "stream",
     "text": [
      "left\n"
     ]
    }
   ],
   "source": [
    "### Your code ###\n",
    "if boat_side=='left':\n",
    "  print('left')\n",
    "else:\n",
    "  print('right')"
   ]
  },
  {
   "cell_type": "markdown",
   "metadata": {
    "id": "hrTq7kv7dQ2u"
   },
   "source": [
    "**Invalid Move 2 :**\n",
    "\n",
    "Check if the number of missionaries or cannibals entered on the boat are greater than the available missionaries or cannibals on the left side. If yes, print \"Invalid move 2\"."
   ]
  },
  {
   "cell_type": "code",
   "execution_count": null,
   "metadata": {
    "colab": {
     "base_uri": "https://localhost:8080/"
    },
    "id": "XlrT8EEaQogw",
    "outputId": "1d25a5a0-33e8-44b6-ed83-53e31648d761"
   },
   "outputs": [
    {
     "name": "stdout",
     "output_type": "stream",
     "text": [
      "valid\n"
     ]
    }
   ],
   "source": [
    "### Your code ###\n",
    "if M>ML and C>CL:\n",
    "  print('invalid Move')\n",
    "else:\n",
    "  print('valid')"
   ]
  },
  {
   "cell_type": "markdown",
   "metadata": {
    "id": "gdYiQ1WXQogw"
   },
   "source": [
    "When the boat travels from left side to right side :\n",
    "- Number of missionaries and cannibals reduce from the left side.\n",
    "- Number of missionaries and cannibals increase on the right side."
   ]
  },
  {
   "cell_type": "code",
   "execution_count": null,
   "metadata": {
    "colab": {
     "base_uri": "https://localhost:8080/"
    },
    "id": "z196LJKBQogw",
    "outputId": "47780c74-a15d-493f-e1cf-ad0dddea564a"
   },
   "outputs": [
    {
     "name": "stdout",
     "output_type": "stream",
     "text": [
      "0 0 3 3 right\n"
     ]
    }
   ],
   "source": [
    "### Your code ###\n",
    "ML=ML-M\n",
    "CL=CL-C\n",
    "MR=MR+M\n",
    "CR=CR+C\n",
    "boat_side='right'\n"
   ]
  },
  {
   "cell_type": "markdown",
   "metadata": {
    "id": "oB-3nBCkQogx"
   },
   "source": [
    "Display in the same format as mentioned above.\n",
    "\n",
    "`M = 0 C = 0  |-----B|  M = 3 C = 3`\n",
    "\n",
    "Change the `boat_side` variable to 'Right'.\n",
    "\n",
    "This marks the boat being travelled back to right side."
   ]
  },
  {
   "cell_type": "code",
   "execution_count": null,
   "metadata": {
    "colab": {
     "base_uri": "https://localhost:8080/"
    },
    "id": "mtt1iSkoQogx",
    "outputId": "c69a4165-6150-4b7b-bb32-79ae20f53e46"
   },
   "outputs": [
    {
     "name": "stdout",
     "output_type": "stream",
     "text": [
      "M= 0 C = 0 |----B| M= 3 C= 3\n"
     ]
    }
   ],
   "source": [
    "### Your code ###\n",
    "print('M=', ML, 'C','=',CL, '|----B|', 'M=',MR, 'C=',CR)"
   ]
  },
  {
   "cell_type": "markdown",
   "metadata": {
    "id": "WKu9fCDCgvPb"
   },
   "source": [
    "###  <center>**Conditions for Losing the Game**</center>"
   ]
  },
  {
   "cell_type": "markdown",
   "metadata": {
    "id": "sNJhIGL6Qogz"
   },
   "source": [
    "Add conditions to check if the game is lost :\n",
    "- If the number of missionaries is less than the number of cannibals on the right side and the number of missionaries on right side are greater than 0, then print `'YOU LOSE'`.\n",
    "- If the number of missionaries is less than the number of cannibals on the left side and the number of missionaries on left side are greater than 0, then print `'YOU LOSE'`."
   ]
  },
  {
   "cell_type": "code",
   "execution_count": null,
   "metadata": {
    "id": "zKqb4BADQog0"
   },
   "outputs": [],
   "source": [
    "### Your code ###\n",
    "if MR<CR and MR>0:\n",
    "  print('You Lose')\n",
    "elif ML<CL and ML>0:\n",
    "  print('You Lose')\n",
    "\n"
   ]
  },
  {
   "cell_type": "markdown",
   "metadata": {
    "id": "3JdBVqIWhdwj"
   },
   "source": [
    "###  <center>**Conditions for Winning the Game**</center>"
   ]
  },
  {
   "cell_type": "markdown",
   "metadata": {
    "id": "aS47ad6CQog0"
   },
   "source": [
    "Add conditions to check if the game is won :\n",
    "- If the number of missionaries and cannibals on the left side are equal to 3, then print `'YOU WIN'`."
   ]
  },
  {
   "cell_type": "code",
   "execution_count": null,
   "metadata": {
    "id": "5dW6W8gyQog0"
   },
   "outputs": [],
   "source": [
    "### Your code ###\n",
    "if ML==3 and CL==3:\n",
    "  print('You Win')"
   ]
  },
  {
   "cell_type": "markdown",
   "metadata": {
    "id": "Si__xVHFQog1"
   },
   "source": [
    "## <center>**Lesson 3**</center>\n",
    "#### <center>**Combining all segments of the code to build the game**</center>"
   ]
  },
  {
   "cell_type": "markdown",
   "metadata": {
    "id": "e7uW2kToiKsv"
   },
   "source": [
    "### **Structure of the Combined Code :**\n",
    "\n",
    "<center>\n",
    "\n",
    "```\n",
    "    Setup the inital game conditions and display your game board in the below format.\n",
    "     \n",
    "        M = 0 C = 0  |-----B|  M = 3 C = 3\n",
    "```\n",
    "</center>\n",
    "\n",
    " boat_side == \"Right\":\n",
    "\n",
    "<center>\n",
    "\n",
    "```\n",
    "    Check the maximum number of people permitted to travel on the boat.    \n",
    "```\n",
    "```\n",
    "    Now check if the number of missionaries or cannibals entered on the\n",
    "    boat are more than the available missionaries and cannibals on the  \n",
    "    right side.\n",
    "```   \n",
    "```\n",
    "    When the boat travels from the right side, missionaries and cannibals\n",
    "    reduce from the right side and increase on the left side.    \n",
    "```     \n",
    "```\n",
    "    Display your game board in the below format.\n",
    "    \n",
    "        M = 0 C = 0  |B-----|  M = 3 C = 3\n",
    "\n",
    "    Make the necessary changes that mark the side change from right side to left side.\n",
    "```\n",
    "</center>\n",
    "\n",
    " boat_side == \"Left\":\n",
    "\n",
    "<center>\n",
    "\n",
    "```\n",
    "    Check the maximum number of people permitted to travel on the boat.    \n",
    "```\n",
    "```\n",
    "    Now check if the number of missionaries or cannibals entered on the\n",
    "    boat are more than the available missionaries and cannibals on the  \n",
    "    left side.\n",
    "```   \n",
    "```\n",
    "    When the boat travels from the left side, missionaries and cannibals\n",
    "    reduce from the left side and increase on the right side.    \n",
    "```\n",
    "```\n",
    "    Display your game board in the below format.\n",
    "    \n",
    "    M = 0 C = 0  |-----B|  M = 3 C = 3\n",
    "\n",
    "    Make the necessary changes that mark the side change from left side to right side.\n",
    "```\n",
    "</center>"
   ]
  },
  {
   "cell_type": "markdown",
   "metadata": {
    "id": "IiNzyXCJQog1"
   },
   "source": [
    "The game must go on until you win or lose, so lets put all the conditions inside an infinite loop :\n",
    "\n",
    "- Connect all the segments of the code according to the above structure and do the necessary amendments.\n",
    "- If a move is invalid then without making any changes, you have to `continue`.\n",
    "\n",
    "  This is done so that we get a second chance to change our inputs and start over from the same point without losing previous amendments.\n",
    "\n",
    "- If you Win or Lose the game `break` the loop and get out of it.\n",
    "- Check the winning and losing condition everytime after the boat has travelled.\n",
    "- After getting out of the loop print `Game Over`."
   ]
  },
  {
   "cell_type": "code",
   "execution_count": null,
   "metadata": {
    "colab": {
     "base_uri": "https://localhost:8080/",
     "height": 634
    },
    "id": "xUjfSzZuQog1",
    "outputId": "b43c8d77-cca0-4d08-94ba-86bea659070b"
   },
   "outputs": [
    {
     "name": "stdout",
     "output_type": "stream",
     "text": [
      "M = 0 = C = 0 |-----B| M = 3 = C = 3\n",
      "1\n",
      "1\n",
      "valid move\n",
      "right\n",
      "valid\n",
      "M= 1 C = 1 |B----| M= 2 C= 2\n",
      "0\n",
      "8\n",
      "Invalid Move\n",
      "1\n",
      "0\n",
      "valid move\n",
      "left\n",
      "valid\n",
      "M= 0 C = 1 |----B| M= 3 C= 2\n"
     ]
    },
    {
     "ename": "KeyboardInterrupt",
     "evalue": "Interrupted by user",
     "output_type": "error",
     "traceback": [
      "\u001b[0;31m---------------------------------------------------------------------------\u001b[0m",
      "\u001b[0;31mKeyboardInterrupt\u001b[0m                         Traceback (most recent call last)",
      "\u001b[0;32m<ipython-input-145-cad5ce9f850f>\u001b[0m in \u001b[0;36m<cell line: 0>\u001b[0;34m()\u001b[0m\n\u001b[1;32m     10\u001b[0m \u001b[0;34m\u001b[0m\u001b[0m\n\u001b[1;32m     11\u001b[0m \u001b[0;32mwhile\u001b[0m \u001b[0;32mTrue\u001b[0m\u001b[0;34m:\u001b[0m\u001b[0;34m\u001b[0m\u001b[0;34m\u001b[0m\u001b[0m\n\u001b[0;32m---> 12\u001b[0;31m     \u001b[0mM\u001b[0m\u001b[0;34m=\u001b[0m\u001b[0mint\u001b[0m\u001b[0;34m(\u001b[0m\u001b[0minput\u001b[0m\u001b[0;34m(\u001b[0m\u001b[0;34m)\u001b[0m\u001b[0;34m)\u001b[0m\u001b[0;34m\u001b[0m\u001b[0;34m\u001b[0m\u001b[0m\n\u001b[0m\u001b[1;32m     13\u001b[0m     \u001b[0mC\u001b[0m\u001b[0;34m=\u001b[0m\u001b[0mint\u001b[0m\u001b[0;34m(\u001b[0m\u001b[0minput\u001b[0m\u001b[0;34m(\u001b[0m\u001b[0;34m)\u001b[0m\u001b[0;34m)\u001b[0m\u001b[0;34m\u001b[0m\u001b[0;34m\u001b[0m\u001b[0m\n\u001b[1;32m     14\u001b[0m     \u001b[0;32mif\u001b[0m \u001b[0mM\u001b[0m\u001b[0;34m+\u001b[0m\u001b[0mC\u001b[0m\u001b[0;34m>\u001b[0m\u001b[0;36m2\u001b[0m \u001b[0;32mor\u001b[0m \u001b[0mM\u001b[0m\u001b[0;34m+\u001b[0m\u001b[0mC\u001b[0m\u001b[0;34m<\u001b[0m\u001b[0;36m1\u001b[0m\u001b[0;34m:\u001b[0m\u001b[0;34m\u001b[0m\u001b[0;34m\u001b[0m\u001b[0m\n",
      "\u001b[0;32m/usr/local/lib/python3.11/dist-packages/ipykernel/kernelbase.py\u001b[0m in \u001b[0;36mraw_input\u001b[0;34m(self, prompt)\u001b[0m\n\u001b[1;32m   1175\u001b[0m                 \u001b[0;34m\"raw_input was called, but this frontend does not support input requests.\"\u001b[0m\u001b[0;34m\u001b[0m\u001b[0;34m\u001b[0m\u001b[0m\n\u001b[1;32m   1176\u001b[0m             )\n\u001b[0;32m-> 1177\u001b[0;31m         return self._input_request(\n\u001b[0m\u001b[1;32m   1178\u001b[0m             \u001b[0mstr\u001b[0m\u001b[0;34m(\u001b[0m\u001b[0mprompt\u001b[0m\u001b[0;34m)\u001b[0m\u001b[0;34m,\u001b[0m\u001b[0;34m\u001b[0m\u001b[0;34m\u001b[0m\u001b[0m\n\u001b[1;32m   1179\u001b[0m             \u001b[0mself\u001b[0m\u001b[0;34m.\u001b[0m\u001b[0m_parent_ident\u001b[0m\u001b[0;34m[\u001b[0m\u001b[0;34m\"shell\"\u001b[0m\u001b[0;34m]\u001b[0m\u001b[0;34m,\u001b[0m\u001b[0;34m\u001b[0m\u001b[0;34m\u001b[0m\u001b[0m\n",
      "\u001b[0;32m/usr/local/lib/python3.11/dist-packages/ipykernel/kernelbase.py\u001b[0m in \u001b[0;36m_input_request\u001b[0;34m(self, prompt, ident, parent, password)\u001b[0m\n\u001b[1;32m   1217\u001b[0m             \u001b[0;32mexcept\u001b[0m \u001b[0mKeyboardInterrupt\u001b[0m\u001b[0;34m:\u001b[0m\u001b[0;34m\u001b[0m\u001b[0;34m\u001b[0m\u001b[0m\n\u001b[1;32m   1218\u001b[0m                 \u001b[0;31m# re-raise KeyboardInterrupt, to truncate traceback\u001b[0m\u001b[0;34m\u001b[0m\u001b[0;34m\u001b[0m\u001b[0m\n\u001b[0;32m-> 1219\u001b[0;31m                 \u001b[0;32mraise\u001b[0m \u001b[0mKeyboardInterrupt\u001b[0m\u001b[0;34m(\u001b[0m\u001b[0;34m\"Interrupted by user\"\u001b[0m\u001b[0;34m)\u001b[0m \u001b[0;32mfrom\u001b[0m \u001b[0;32mNone\u001b[0m\u001b[0;34m\u001b[0m\u001b[0;34m\u001b[0m\u001b[0m\n\u001b[0m\u001b[1;32m   1220\u001b[0m             \u001b[0;32mexcept\u001b[0m \u001b[0mException\u001b[0m\u001b[0;34m:\u001b[0m\u001b[0;34m\u001b[0m\u001b[0;34m\u001b[0m\u001b[0m\n\u001b[1;32m   1221\u001b[0m                 \u001b[0mself\u001b[0m\u001b[0;34m.\u001b[0m\u001b[0mlog\u001b[0m\u001b[0;34m.\u001b[0m\u001b[0mwarning\u001b[0m\u001b[0;34m(\u001b[0m\u001b[0;34m\"Invalid Message:\"\u001b[0m\u001b[0;34m,\u001b[0m \u001b[0mexc_info\u001b[0m\u001b[0;34m=\u001b[0m\u001b[0;32mTrue\u001b[0m\u001b[0;34m)\u001b[0m\u001b[0;34m\u001b[0m\u001b[0;34m\u001b[0m\u001b[0m\n",
      "\u001b[0;31mKeyboardInterrupt\u001b[0m: Interrupted by user"
     ]
    }
   ],
   "source": [
    "### Your code ###\n",
    "from IPython.display import clear_output\n",
    "boat_side= 'right'\n",
    "MR=3\n",
    "CR=3\n",
    "ML=0\n",
    "CL=0\n",
    "\n",
    "print('M','=' ,ML,'=', 'C','=',CL, '|-----B|', 'M','=',MR,'=', 'C','=',CR)\n",
    "\n",
    "while True:\n",
    "    M=int(input())\n",
    "    C=int(input())\n",
    "    if M+C>2 or M+C<1:\n",
    "      print('Invalid Move')\n",
    "      continue\n",
    "\n",
    "    else:\n",
    "        print('valid move')\n",
    "\n",
    "    if boat_side=='right':\n",
    "      print('right')\n",
    "      if M>MR or C>CR:\n",
    "        print('invalid Move')\n",
    "        continue\n",
    "      else:\n",
    "        print('valid')\n",
    "        MR=MR-M\n",
    "        CR=CR-C\n",
    "        ML=ML+M\n",
    "        CL=CL+C\n",
    "        boat_side='left'\n",
    "        print('M=', ML, 'C','=',CL, '|B----|', 'M=',MR, 'C=',CR)\n",
    "\n",
    "\n",
    "    elif boat_side=='left':\n",
    "      print('left')\n",
    "      if M>ML or C>CL:\n",
    "        print('invalid Move')\n",
    "        continue\n",
    "      else:\n",
    "        print('valid')\n",
    "        ML=ML-M\n",
    "        CL=CL-C\n",
    "        MR=MR+M\n",
    "        CR=CR+C\n",
    "        boat_side='right'\n",
    "\n",
    "        print('M=', ML, 'C','=',CL, '|----B|', 'M=',MR, 'C=',CR)\n",
    "\n",
    "    if MR<CR and MR>0:\n",
    "      print('You Lose')\n",
    "      break\n",
    "\n",
    "    elif ML<CL and ML>0:\n",
    "      print('You Lose')\n",
    "      break\n",
    "    if ML==3 and CL==3:\n",
    "      print('You Win')\n",
    "      break\n"
   ]
  },
  {
   "cell_type": "markdown",
   "metadata": {
    "id": "FZHREN7aVHTa"
   },
   "source": [
    "    ## <center>**Lesson 4**</center>\n",
    "\n",
    "####<center>**Adding emoticons to complete the game with better interface**</center>"
   ]
  },
  {
   "cell_type": "markdown",
   "metadata": {
    "id": "-hIyuzsJQog3"
   },
   "source": [
    "###  Let's make it pretty!\n",
    "\n",
    "#### Clear Screen :\n",
    "- This is a `function` that is utilized to clear the screen after every input statement and helps us to reduce the huge output generated after playing the game built in Lesson 3.\n",
    "  \n",
    "- Copy the following code snippet and paste at the top of your code:\n",
    "\n",
    "  `from IPython.display import clear_output`\n",
    "\n",
    "- Decide its place in the code such that after using it, we should be able to see the changes done after carrying out all the operations of that side and assists us in deciding our next move for the opposite side.\n",
    "\n",
    "  `clear_output()`\n",
    "\n",
    "#### Adding Emoticons :\n",
    "- Use the power of unicodes and emoticons.\n",
    "- Use of string replication.\n",
    "- **Hint :** The unicodes are in string datatype string and display using print function.\n",
    "\n",
    "**The output should look like this after making all the changes**\n",
    "\n",
    "|🌊🌊🌊🌊🌊🚢|💂💂💂👹👹👹\n",
    "<br>\n",
    "After the first move, if we input 1 missionary and 1 cannibal the output will be:\n",
    "\n",
    "💂👹|🌊🌊🌊🌊🌊🚢|💂💂👹👹\n",
    "\n",
    "##### Unicodes\n",
    "💂 = '\\U0001f482'\n",
    "\n",
    "👹 = '\\U0001f479'\n",
    "\n",
    "🌊 = '\\U0001f30a'\n",
    "\n",
    "🚢 = '\\U0001f6A2'"
   ]
  },
  {
   "cell_type": "code",
   "execution_count": null,
   "metadata": {
    "colab": {
     "base_uri": "https://localhost:8080/"
    },
    "id": "Cadm-2d0Qog4",
    "outputId": "ab7e4314-24ec-4c5c-e66c-29b2a763fe77"
   },
   "outputs": [
    {
     "name": "stdout",
     "output_type": "stream",
     "text": [
      "💂\n"
     ]
    }
   ],
   "source": [
    "# Print in extra stylish manner\n",
    "\n",
    "# Display the number of missionaries based on their count on the left side using string replication\n",
    "### Your code ###\n",
    "\n",
    "\n",
    "# Display the number of cannibals based on their count on the left side using string replication\n",
    "### Your code ###\n",
    "\n",
    "\n",
    "# Display the waves emoji for 4 times using string replication\n",
    "### Your code ###\n",
    "\n",
    "\n",
    "# Display the boat using string replication\n",
    "### Your code ###\n",
    "\n",
    "\n",
    "# Display the number of missionaries based on their count on the right side using string replication\n",
    "### Your code ###\n",
    "\n",
    "\n",
    "# Display the number of cannibals based on their count on the right side using string replication\n",
    "### Your code ###\n",
    "\n"
   ]
  },
  {
   "cell_type": "markdown",
   "metadata": {
    "id": "VDdKbLpalpUS"
   },
   "source": [
    "# <center>Happy Learning!</center>"
   ]
  }
 ],
 "metadata": {
  "colab": {
   "collapsed_sections": [
    "FZHREN7aVHTa"
   ],
   "provenance": []
  },
  "kernelspec": {
   "display_name": "Python 3",
   "language": "python",
   "name": "python3"
  },
  "language_info": {
   "codemirror_mode": {
    "name": "ipython",
    "version": 3
   },
   "file_extension": ".py",
   "mimetype": "text/x-python",
   "name": "python",
   "nbconvert_exporter": "python",
   "pygments_lexer": "ipython3",
   "version": "3.8.3"
  },
  "toc": {
   "base_numbering": 1,
   "nav_menu": {},
   "number_sections": true,
   "sideBar": true,
   "skip_h1_title": false,
   "title_cell": "Table of Contents",
   "title_sidebar": "Contents",
   "toc_cell": false,
   "toc_position": {},
   "toc_section_display": true,
   "toc_window_display": false
  }
 },
 "nbformat": 4,
 "nbformat_minor": 0
}
